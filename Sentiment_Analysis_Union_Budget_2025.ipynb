{
 "cells": [
  {
   "cell_type": "code",
   "execution_count": 1,
   "id": "9e00bfe7-1643-4374-b98e-fd0a8555e243",
   "metadata": {},
   "outputs": [],
   "source": [
    "import praw\n",
    "import pandas as pd\n",
    "import numpy as np\n",
    "import matplotlib.pyplot as plt\n",
    "import seaborn as sns"
   ]
  },
  {
   "cell_type": "code",
   "execution_count": 2,
   "id": "ee654598-6f22-4991-b74b-6afeb3b7580b",
   "metadata": {},
   "outputs": [],
   "source": [
    "user_agent=\"Scrapper - 1 by /u/Ordinary-Ticket-4825\"\n",
    "reddit=praw.Reddit(\n",
    "    client_id=\"YqhNjtynahlkYmE96uPlLw\",\n",
    "    client_secret=\"E8FPo7Kg4UOwYYh-iczTjUESX4Uc7w\",\n",
    "user_agent=user_agent\n",
    ")                   "
   ]
  },
  {
   "cell_type": "code",
   "execution_count": 3,
   "id": "6b95c7f1-0558-40db-8318-3ce766b95639",
   "metadata": {},
   "outputs": [
    {
     "name": "stdout",
     "output_type": "stream",
     "text": [
      "  Subreddit            Keyword  \\\n",
      "0     india  Union Budget 2025   \n",
      "1     india  Union Budget 2025   \n",
      "2     india  Union Budget 2025   \n",
      "3     india  Union Budget 2025   \n",
      "4     india  Union Budget 2025   \n",
      "\n",
      "                                             Comment  \n",
      "0  To get a realistic picture, this should be wei...  \n",
      "1  https://preview.redd.it/k3bh84byhrge1.jpeg?wid...  \n",
      "2                 Per capita numbers anyone, please?  \n",
      "3  What many people also do not understand is tha...  \n",
      "4  What are they doing in sikkim with 5k crores? ...  \n"
     ]
    }
   ],
   "source": [
    "# Define subreddits and keywords\n",
    "subreddits = [\"india\", \"finance\", \"economy\", \"business\",\"IndiaFinance\",\"IndiaSpeaks\"]\n",
    "keywords = [ \"Union Budget 2025\", \"India Budget 2025\", \"Budget 2025\", \"Modi Budget 2025\"]\n",
    "\n",
    "# List to store comments\n",
    "comments_list = []\n",
    "\n",
    "# Search each subreddit for each keyword\n",
    "for subreddit in subreddits:\n",
    "    for query in keywords:\n",
    "        sub = reddit.subreddit(subreddit)\n",
    "        for post in sub.search(query, limit=100):  # Fetch top 5 posts per query\n",
    "            post.comments.replace_more(limit=0)  # Avoid \"More Comments\" placeholders\n",
    "            for comment in post.comments.list():\n",
    "                comments_list.append([subreddit, query, comment.body])\n",
    "\n",
    "# Convert data to DataFrame\n",
    "df = pd.DataFrame(comments_list, columns=[\"Subreddit\", \"Keyword\", \"Comment\"])\n",
    "print(df.head())"
   ]
  },
  {
   "cell_type": "code",
   "execution_count": 4,
   "id": "8b824720-eb64-44c1-8633-a5f1a1e6594b",
   "metadata": {},
   "outputs": [
    {
     "data": {
      "text/plain": [
       "(35273, 3)"
      ]
     },
     "execution_count": 4,
     "metadata": {},
     "output_type": "execute_result"
    }
   ],
   "source": [
    "df.shape"
   ]
  },
  {
   "cell_type": "code",
   "execution_count": 9,
   "id": "a9ff163c-1cbe-4820-b13c-4b18d0d959f6",
   "metadata": {},
   "outputs": [
    {
     "data": {
      "text/plain": [
       "Keyword\n",
       "India Budget 2025    12308\n",
       "Union Budget 2025    11345\n",
       "Modi Budget 2025      9608\n",
       "Budget 2025           2012\n",
       "Name: count, dtype: int64"
      ]
     },
     "execution_count": 9,
     "metadata": {},
     "output_type": "execute_result"
    }
   ],
   "source": [
    "df.Keyword.value_counts()"
   ]
  },
  {
   "cell_type": "code",
   "execution_count": 10,
   "id": "3ad9789e-3a62-46e0-8789-7b3070486058",
   "metadata": {},
   "outputs": [
    {
     "data": {
      "text/plain": [
       "Subreddit\n",
       "india           16401\n",
       "IndiaSpeaks     13599\n",
       "economy          4850\n",
       "business          365\n",
       "IndiaFinance       30\n",
       "finance            28\n",
       "Name: count, dtype: int64"
      ]
     },
     "execution_count": 10,
     "metadata": {},
     "output_type": "execute_result"
    }
   ],
   "source": [
    "df.Subreddit.value_counts()"
   ]
  },
  {
   "cell_type": "code",
   "execution_count": 11,
   "id": "ee727d98-a6c5-44d3-ad74-b9e514f27900",
   "metadata": {},
   "outputs": [
    {
     "name": "stdout",
     "output_type": "stream",
     "text": [
      "Data exported to reddit_sentiment_analysis_2.xlsx successfully!\n"
     ]
    }
   ],
   "source": [
    "df.to_excel(\"reddit_sentiment_analysis_2.xlsx\", index=False, engine=\"openpyxl\")\n",
    "print(\"Data exported to reddit_sentiment_analysis_2.xlsx successfully!\")"
   ]
  },
  {
   "cell_type": "code",
   "execution_count": null,
   "id": "03aa184b-49f5-4323-911e-6a4df659524a",
   "metadata": {},
   "outputs": [],
   "source": [
    "import re\n",
    "import nltk\n",
    "from nltk.corpus import stopwords\n",
    "\n",
    "nltk.download(\"stopwords\")\n",
    "stop_words = set(stopwords.words(\"english\"))\n",
    "\n",
    "def clean_text(text):\n",
    "    text = re.sub(r\"http\\S+|www\\S+|https\\S+\", \"\", text, flags=re.MULTILINE)  # Remove URLs\n",
    "    text = re.sub(r\"[^A-Za-z0-9 ]+\", \"\", text)  # Remove special characters\n",
    "    text = \" \".join([word.lower() for word in text.split() if word.lower() not in stop_words])  # Remove stopwords\n",
    "    return text\n",
    "\n",
    "df[\"Cleaned_Comment\"] = df[\"Comment\"].apply(clean_text)\n",
    "print(df.head())\n"
   ]
  },
  {
   "cell_type": "code",
   "execution_count": null,
   "id": "81e7eca1-95de-4c0d-ab2e-db4d1d05da01",
   "metadata": {},
   "outputs": [],
   "source": [
    "from textblob import TextBlob\n",
    "\n",
    "def get_sentiment(text):\n",
    "    analysis = TextBlob(text)\n",
    "    if analysis.sentiment.polarity > 0:\n",
    "        return \"Positive\"\n",
    "    elif analysis.sentiment.polarity < 0:\n",
    "        return \"Negative\"\n",
    "    else:\n",
    "        return \"Neutral\"\n",
    "\n",
    "df[\"Sentiment\"] = df[\"Cleaned_Comment\"].apply(get_sentiment)\n",
    "print(df[\"Sentiment\"].value_counts())\n"
   ]
  },
  {
   "cell_type": "code",
   "execution_count": null,
   "id": "e7e48398-889c-45e5-ac4b-1898718248ec",
   "metadata": {},
   "outputs": [],
   "source": [
    "import matplotlib.pyplot as plt\n",
    "\n",
    "df[\"Sentiment\"].value_counts().plot(kind=\"pie\", autopct=\"%1.1f%%\", colors=[\"green\", \"red\", \"blue\"])\n",
    "plt.title(\"Sentiment Analysis of Union Budget 2025 Reddit Comments\")\n",
    "plt.show()"
   ]
  },
  {
   "cell_type": "code",
   "execution_count": null,
   "id": "d4196fdf-7a1f-45ac-8ca1-8bd017340571",
   "metadata": {},
   "outputs": [],
   "source": [
    "from wordcloud import WordCloud\n",
    "\n",
    "text = \" \".join(comment for comment in df[\"Cleaned_Comment\"])\n",
    "wordcloud = WordCloud(width=800, height=400, background_color=\"white\").generate(text)\n",
    "\n",
    "plt.figure(figsize=(10, 5))\n",
    "plt.imshow(wordcloud, interpolation=\"bilinear\")\n",
    "plt.axis(\"off\")\n",
    "plt.title(\"Word Cloud of Union Budget 2025 Reddit Comments\")\n",
    "plt.show()\n"
   ]
  },
  {
   "cell_type": "code",
   "execution_count": null,
   "id": "16625f07-801f-475d-8323-87b11327938d",
   "metadata": {},
   "outputs": [],
   "source": [
    "from nltk.sentiment import SentimentIntensityAnalyzer\n",
    "\n",
    "nltk.download(\"vader_lexicon\")\n",
    "sia = SentimentIntensityAnalyzer()\n",
    "\n",
    "def get_vader_sentiment(text):\n",
    "    score = sia.polarity_scores(text)[\"compound\"]\n",
    "    return \"Positive\" if score > 0 else \"Negative\" if score < 0 else \"Neutral\"\n",
    "\n",
    "df[\"VADER_Sentiment\"] = df[\"Cleaned_Comment\"].apply(get_vader_sentiment)\n",
    "print(df[\"VADER_Sentiment\"].value_counts())\n"
   ]
  },
  {
   "cell_type": "code",
   "execution_count": null,
   "id": "a425ab91-5937-471c-ab56-c70125b03c89",
   "metadata": {},
   "outputs": [],
   "source": []
  }
 ],
 "metadata": {
  "kernelspec": {
   "display_name": "Python 3 (ipykernel)",
   "language": "python",
   "name": "python3"
  },
  "language_info": {
   "codemirror_mode": {
    "name": "ipython",
    "version": 3
   },
   "file_extension": ".py",
   "mimetype": "text/x-python",
   "name": "python",
   "nbconvert_exporter": "python",
   "pygments_lexer": "ipython3",
   "version": "3.12.4"
  }
 },
 "nbformat": 4,
 "nbformat_minor": 5
}
